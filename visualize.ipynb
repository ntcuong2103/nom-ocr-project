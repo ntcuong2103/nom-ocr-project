{
 "cells": [
  {
   "cell_type": "code",
   "execution_count": null,
   "metadata": {},
   "outputs": [],
   "source": [
    "import numpy as np\n",
    "from PIL import Image\n",
    "\n",
    "# matplotlib inline\n",
    "%matplotlib inline\n",
    "\n",
    "def visualize_image_annotations(image_path, txt_path, label_map):\n",
    "    \"\"\"\n",
    "    Visualizes YOLO annotations (bounding boxes and class labels) on an image.\n",
    "\n",
    "    This function reads an image and its corresponding annotation file in YOLO format, then\n",
    "    draws bounding boxes around detected objects and labels them with their respective class names.\n",
    "    The bounding box colors are assigned based on the class ID, and the text color is dynamically\n",
    "    adjusted for readability, depending on the background color's luminance.\n",
    "\n",
    "    Args:\n",
    "        image_path (str): The path to the image file to annotate, and it can be in formats supported by PIL (e.g., .jpg, .png).\n",
    "        txt_path (str): The path to the annotation file in YOLO format, that should contain one line per object with:\n",
    "                        - class_id (int): The class index.\n",
    "                        - x_center (float): The X center of the bounding box (relative to image width).\n",
    "                        - y_center (float): The Y center of the bounding box (relative to image height).\n",
    "                        - width (float): The width of the bounding box (relative to image width).\n",
    "                        - height (float): The height of the bounding box (relative to image height).\n",
    "        label_map (dict): A dictionary that maps class IDs (integers) to class labels (strings).\n",
    "\n",
    "    Example:\n",
    "        >>> label_map = {0: \"cat\", 1: \"dog\", 2: \"bird\"}  # It should include all annotated classes details\n",
    "        >>> visualize_image_annotations(\"path/to/image.jpg\", \"path/to/annotations.txt\", label_map)\n",
    "    \"\"\"\n",
    "    import matplotlib.pyplot as plt\n",
    "\n",
    "    from ultralytics.utils.plotting import colors\n",
    "\n",
    "    img = np.array(Image.open(image_path))\n",
    "    img_height, img_width = img.shape[:2]\n",
    "    annotations = []\n",
    "    with open(txt_path) as file:\n",
    "        for line in file:\n",
    "            class_id, x_center, y_center, width, height = map(float, line.split()[:5])\n",
    "            x = (x_center - width / 2) * img_width\n",
    "            y = (y_center - height / 2) * img_height\n",
    "            w = width * img_width\n",
    "            h = height * img_height\n",
    "            annotations.append((x, y, w, h, int(class_id)))\n",
    "    fig, ax = plt.subplots(1)  # Plot the image and annotations\n",
    "    for x, y, w, h, label in annotations:\n",
    "        color = tuple(c / 255 for c in colors(label, True))  # Get and normalize the RGB color\n",
    "        rect = plt.Rectangle((x, y), w, h, linewidth=1, edgecolor=color, facecolor=\"none\")  # Create a rectangle\n",
    "        ax.add_patch(rect)\n",
    "        luminance = 0.2126 * color[0] + 0.7152 * color[1] + 0.0722 * color[2]  # Formula for luminance\n",
    "        # ax.text(x, y - 5, label_map[label], color=\"white\" if luminance < 0.5 else \"black\", backgroundcolor=color)\n",
    "    ax.imshow(img)\n",
    "    plt.show()\n"
   ]
  },
  {
   "cell_type": "code",
   "execution_count": null,
   "metadata": {},
   "outputs": [],
   "source": [
    "visualize_image_annotations(\n",
    "    \"nom-ocr/nomnaocr/val/page124.jpg\",  # Input image path.\n",
    "    \"nom-detection/yolo10m-1280-tkh-mth-test-gt/labels/page124.txt\",  # Annotation file path for the image.\n",
    "    {0: \"nom\"}  # Class ID to label mapping.,\n",
    ")\n"
   ]
  },
  {
   "cell_type": "code",
   "execution_count": null,
   "metadata": {},
   "outputs": [],
   "source": [
    "visualize_image_annotations(\n",
    "    \"nom-ocr/nomnaocr/Pages/Luc Van Tien/imgs/nlvnpf-0059-002.jpg\",  # Input image path.\n",
    "    # \"nom-detection/yolo11n-12805/labels/nlvnpf-0059-002.txt\",  # Annotation file path for the image.\n",
    "    \"nom-detection/yolo11n-12807/labels/nlvnpf-0059-002.txt\",  # Annotation file path for the image.\n",
    "    {0: \"nom\"}  # Class ID to label mapping.,\n",
    ")\n"
   ]
  },
  {
   "cell_type": "code",
   "execution_count": null,
   "metadata": {},
   "outputs": [],
   "source": [
    "visualize_image_annotations(\n",
    "    \"nom-ocr/nomnaocr/Pages/Luc Van Tien/imgs/nlvnpf-0059-002.jpg\",  # Input image path.\n",
    "    \"nom-detection/yolo11n-128010/labels/nlvnpf-0059-002.txt\",  # Annotation file path for the image.\n",
    "    # \"nom-detection/yolo11n-12807/labels/nlvnpf-0059-002.txt\",  # Annotation file path for the image.\n",
    "    {0: \"nom\"}  # Class ID to label mapping.,\n",
    ")\n"
   ]
  }
 ],
 "metadata": {
  "kernelspec": {
   "display_name": "nom-ocr",
   "language": "python",
   "name": "python3"
  },
  "language_info": {
   "codemirror_mode": {
    "name": "ipython",
    "version": 3
   },
   "file_extension": ".py",
   "mimetype": "text/x-python",
   "name": "python",
   "nbconvert_exporter": "python",
   "pygments_lexer": "ipython3",
   "version": "3.9.18"
  }
 },
 "nbformat": 4,
 "nbformat_minor": 2
}
