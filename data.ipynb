{
 "cells": [
  {
   "cell_type": "markdown",
   "metadata": {},
   "source": [
    "### TKH"
   ]
  },
  {
   "cell_type": "code",
   "execution_count": null,
   "metadata": {},
   "outputs": [],
   "source": [
    "import numpy as np\n",
    "def convert_yolo_format(label_path, img_path, output_path):\n",
    "    labels, x1, y1, x2, y2 = list(zip(*[line.split() for line in open(label_path, 'r').readlines()]))\n",
    "    x1 = np.array(x1, dtype=float)\n",
    "    y1 = np.array(y1, dtype=float)\n",
    "    x2 = np.array(x2, dtype=float)\n",
    "    y2 = np.array(y2, dtype=float)\n",
    "\n",
    "    img_w, img_h = imagesize.get(img_path)\n",
    "    x = (x1 + x2) / 2 / img_w\n",
    "    y = (y1 + y2) / 2 / img_h\n",
    "    w = (x2 - x1) / img_w\n",
    "    h = (y2 - y1) / img_h\n",
    "\n",
    "    with open(output_path, 'w') as f:\n",
    "        for i in range(len(labels)):\n",
    "            f.write(f'0 {x[i]:6f} {y[i]:6f} {w[i]:6f} {h[i]:6f}\\n')\n",
    "            # f.write(f'{labels[i]} {x[i]:6f} {y[i]:6f} {w[i]:6f} {h[i]:6f}\\n')\n",
    "            "
   ]
  },
  {
   "cell_type": "code",
   "execution_count": null,
   "metadata": {},
   "outputs": [],
   "source": [
    "import os\n",
    "import glob\n",
    "import imagesize\n",
    "\n",
    "file_ext = 'jpg'\n",
    "\n",
    "for img_path in glob.glob(f'datasets/tkh-mth2k2/TKH/img/*.{file_ext}'):\n",
    "    label_path = img_path.replace('img', 'label_char').replace(file_ext, 'txt')\n",
    "    output_path = img_path.replace('img', 'label_char_yolo').replace(file_ext, 'txt')\n",
    "    os.makedirs(os.path.dirname(output_path), exist_ok=True)\n",
    "    convert_yolo_format(label_path, img_path, output_path)\n",
    "    \n",
    "    \n"
   ]
  },
  {
   "cell_type": "markdown",
   "metadata": {},
   "source": [
    "### ihr-nom"
   ]
  },
  {
   "cell_type": "code",
   "execution_count": null,
   "metadata": {},
   "outputs": [],
   "source": [
    "annotation = \"datasets/ihr-nom/handwritten/pages/Luc-Van-Tien/bboxes.json\"\n",
    "\n",
    "import json\n",
    "# import cv2\n",
    "import numpy as np\n",
    "import matplotlib.pyplot as plt\n",
    "\n",
    "with open(annotation) as f:\n",
    "    data = json.load(f)\n"
   ]
  },
  {
   "cell_type": "code",
   "execution_count": null,
   "metadata": {},
   "outputs": [],
   "source": [
    "v['regions']"
   ]
  },
  {
   "cell_type": "code",
   "execution_count": null,
   "metadata": {},
   "outputs": [],
   "source": [
    "name, tags, version, assets = data.values()\n",
    "for k, v in assets.items():\n",
    "    path = v['asset']['path'] \n",
    "    bboxes = v['regions'][0]['boundingBox']\n",
    "    points = v['regions'][0]['points']\n",
    "    break"
   ]
  },
  {
   "cell_type": "code",
   "execution_count": null,
   "metadata": {},
   "outputs": [],
   "source": [
    "# open image\n",
    "import PIL.Image\n",
    "img = PIL.Image.open('datasets/ihr-nom/handwritten/pages/Luc-Van-Tien/' + path)"
   ]
  },
  {
   "cell_type": "code",
   "execution_count": null,
   "metadata": {},
   "outputs": [],
   "source": [
    "# draw bounding box\n",
    "import PIL.ImageDraw\n",
    "draw = PIL.ImageDraw.Draw(img)\n",
    "# draw.rectangle([points[0]['x'], points[0]['y'], points[1]['x'], points[1]['y']], outline='red')\n",
    "draw.rectangle([bboxes['left'], bboxes['top'], bboxes['left'] + bboxes['width'], bboxes['top'] + bboxes['height']], outline='red')\n",
    "\n",
    "# show image\n",
    "plt.imshow(np.asarray(img))"
   ]
  },
  {
   "cell_type": "code",
   "execution_count": null,
   "metadata": {},
   "outputs": [],
   "source": [
    "draw"
   ]
  },
  {
   "cell_type": "code",
   "execution_count": null,
   "metadata": {},
   "outputs": [],
   "source": [
    "k, v = assets.popitem()"
   ]
  },
  {
   "cell_type": "code",
   "execution_count": null,
   "metadata": {},
   "outputs": [],
   "source": [
    "for k, v in data[''].items():\n",
    "    print(k)\n",
    "    print(v)\n",
    "    print()"
   ]
  },
  {
   "cell_type": "code",
   "execution_count": null,
   "metadata": {},
   "outputs": [],
   "source": [
    "k, v = data['assets'].items().__iter__().__next__()"
   ]
  },
  {
   "cell_type": "code",
   "execution_count": null,
   "metadata": {},
   "outputs": [],
   "source": []
  },
  {
   "cell_type": "code",
   "execution_count": null,
   "metadata": {},
   "outputs": [],
   "source": [
    "v['asset']['path'], v['regions'][0]['boundingBox'], v['regions'][1]['boundingBox']"
   ]
  },
  {
   "cell_type": "code",
   "execution_count": null,
   "metadata": {},
   "outputs": [],
   "source": []
  }
 ],
 "metadata": {
  "language_info": {
   "name": "python"
  }
 },
 "nbformat": 4,
 "nbformat_minor": 2
}
